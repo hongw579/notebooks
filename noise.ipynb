{
 "cells": [
  {
   "cell_type": "code",
   "execution_count": 1,
   "id": "1db9d3c6-6c27-4213-81fe-5a221ed05bc5",
   "metadata": {},
   "outputs": [],
   "source": [
    "import napari\n",
    "import tifffile\n",
    "import numpy as np\n",
    "import h5py"
   ]
  },
  {
   "cell_type": "code",
   "execution_count": 2,
   "id": "a1ed0b8e",
   "metadata": {},
   "outputs": [],
   "source": [
    "dir = '/Users/hongwang/Documents/Eureka/'"
   ]
  },
  {
   "cell_type": "code",
   "execution_count": 14,
   "id": "3b3025b7",
   "metadata": {},
   "outputs": [],
   "source": [
    "# train seed = 0\n",
    "# test seed (cur val, 7 files) = 0\n",
    "# test seed for sigma = 0.1 (cur val, 7 files) = 1000\n",
    "# test seed for sigma = 0.3 (cur val, 7 files) = 10000\n",
    "# validation seed for sigma = 0.1 (cur test, 2 files) = 100\n",
    "# validation seed for sigma = 0.3 (cur test, 2 files) = 10\n",
    "np.random.seed(0)"
   ]
  },
  {
   "cell_type": "markdown",
   "id": "5d18a8a3",
   "metadata": {},
   "source": [
    "## test generating noisy data"
   ]
  },
  {
   "cell_type": "code",
   "execution_count": 6,
   "id": "c050f12d",
   "metadata": {},
   "outputs": [
    {
     "name": "stdout",
     "output_type": "stream",
     "text": [
      "<KeysViewHDF5 ['label', 'label_with_ignore', 'raw']>\n",
      "raw type and shape <class 'h5py._hl.dataset.Dataset'> (321, 563, 968)\n",
      "truseg type and shape <class 'h5py._hl.dataset.Dataset'> (321, 563, 968)\n"
     ]
    }
   ],
   "source": [
    "img = h5py.File(dir+'ovules_10k/train_noise/N_404_ds2x.h5','r')\n",
    "print(img.keys())\n",
    "raw = img['raw']\n",
    "trueseg = img['label']\n",
    "imglabelIgnore = img['label_with_ignore']\n",
    "\n",
    "print('raw type and shape',type(raw),raw.shape)\n",
    "print('truseg type and shape',type(trueseg),trueseg.shape)\n",
    "# napari code - this will only run on laptop with napari installed\n",
    "viewer = napari.view_image(raw,ndisplay=3,blending='additive')\n",
    "viewer.add_labels(trueseg)\n",
    "viewer.add_labels(imglabelIgnore)\n",
    "napari.run()"
   ]
  },
  {
   "cell_type": "code",
   "execution_count": 7,
   "id": "07766304",
   "metadata": {
    "scrolled": true
   },
   "outputs": [
    {
     "name": "stdout",
     "output_type": "stream",
     "text": [
      "0\n",
      "255\n",
      "0.0\n",
      "207991\n"
     ]
    }
   ],
   "source": [
    "raw_np = np.array(raw)\n",
    "print(raw_np.min())\n",
    "print(raw_np.max())\n",
    "print(np.median(raw_np))\n",
    "print((raw_np==96).sum())\n",
    "#print(np.random.normal(0, 0.5, raw_np.shape).shape)\n",
    "#print(np.random.normal(0, 0.5, raw_np.shape)[:10][:10][:10])"
   ]
  },
  {
   "cell_type": "code",
   "execution_count": 106,
   "id": "939e580a",
   "metadata": {
    "scrolled": false
   },
   "outputs": [
    {
     "name": "stdout",
     "output_type": "stream",
     "text": [
      "uint8 0 255\n",
      "0\n",
      "0.0\n",
      "-2.918026607767632 3.759729652210135\n",
      "0.0 1.0\n",
      "0.0 255.0\n",
      "(321, 563, 968) 0 255\n"
     ]
    }
   ],
   "source": [
    "print(raw_np.dtype, raw_np.min(), raw_np.max())\n",
    "raw_max=raw_np.max()\n",
    "raw_np_norm = raw_np/raw_max\n",
    "print(raw_np[210][510][510])\n",
    "print(raw_np_norm[210][510][510])\n",
    "raw_np_norm += np.random.normal(0, 0.5, raw_np.shape)\n",
    "print(raw_np_norm.min(), raw_np_norm.max())\n",
    "raw_np_norm = np.clip(raw_np_norm, 0., 1.)\n",
    "print(raw_np_norm.min(), raw_np_norm.max())\n",
    "raw_np_norm *= raw_max\n",
    "print(raw_np_norm.min(), raw_np_norm.max())\n",
    "raw_np_noise = np.uint8(raw_np_norm)\n",
    "print(raw_np_noise.shape, raw_np_noise.min(), raw_np_noise.max())"
   ]
  },
  {
   "cell_type": "code",
   "execution_count": 84,
   "id": "83788664",
   "metadata": {},
   "outputs": [],
   "source": [
    "viewer = napari.view_image(raw_np_noise,ndisplay=3,blending='additive')\n",
    "napari.run()"
   ]
  },
  {
   "cell_type": "code",
   "execution_count": 84,
   "id": "dc30ea51",
   "metadata": {},
   "outputs": [],
   "source": [
    "img = h5py.File(dir+'ovules_10k/val/N_464_ds2x.h5','r')\n",
    "raw = img['raw']\n",
    "trueseg = img['label']\n",
    "imglabelIgnore = img['label_with_ignore']\n",
    "\n",
    "f = h5py.File(dir+'ovules_10k/test.h5', \"w\")\n",
    "dset1 = f.create_dataset(\"raw\", data = raw_np_noise)\n",
    "dset2 = f.create_dataset(\"label\", data = trueseg)\n",
    "dset3 = f.create_dataset(\"label_with_ignore\", data = imglabelIgnore)\n",
    "f.close()\n",
    "\n",
    "img = h5py.File(dir+'ovules_10k/test.h5','r')\n",
    "raw = img['raw']\n",
    "trueseg = img['label']\n",
    "imglabelIgnore = img['label_with_ignore']\n",
    "img.close()"
   ]
  },
  {
   "cell_type": "markdown",
   "id": "1e5d0fc6",
   "metadata": {},
   "source": [
    "## generate noisy data"
   ]
  },
  {
   "cell_type": "code",
   "execution_count": 35,
   "id": "cca50ed3",
   "metadata": {
    "scrolled": true
   },
   "outputs": [
    {
     "name": "stdout",
     "output_type": "stream",
     "text": [
      "<KeysViewHDF5 ['label', 'label_with_ignore', 'raw']>\n",
      "(320, 960, 1000)\n",
      "<class 'h5py._hl.dataset.Dataset'>\n",
      "uint8\n",
      "uint16\n",
      "int16\n"
     ]
    }
   ],
   "source": [
    "img = h5py.File(dir+'ovules_10k/val/N_294_final_crop_ds2.h5','r')\n",
    "print(img.keys())\n",
    "raw = img['raw']\n",
    "trueseg = img['label']\n",
    "imglabelIgnore = img['label_with_ignore']\n",
    "print(raw.shape)\n",
    "print(type(raw))\n",
    "print(raw.dtype)\n",
    "print(trueseg.dtype)\n",
    "print(imglabelIgnore.dtype)\n",
    "raw_np = np.array(raw)"
   ]
  },
  {
   "cell_type": "code",
   "execution_count": null,
   "id": "a0a95aff",
   "metadata": {},
   "outputs": [],
   "source": [
    "print(raw_np[:5][:5][:5])\n",
    "raw_max=raw_np.max()\n",
    "raw_np_norm = raw_np/raw_max\n",
    "raw_np_norm += np.random.normal(0, 0.3, raw_np.shape)\n",
    "raw_np_norm = np.clip(raw_np_norm, 0., 1.)\n",
    "raw_np_norm *= raw_max\n",
    "raw_np_noise = np.uint8(raw_np_norm)\n",
    "print(raw_np_noise[:5][:5][:5])"
   ]
  },
  {
   "cell_type": "code",
   "execution_count": 37,
   "id": "7a576dcd",
   "metadata": {},
   "outputs": [],
   "source": [
    "f = h5py.File(dir+'ovules_10k/val_noise_03/N_294_final_crop_ds2.h5', \"w\")\n",
    "dset1 = f.create_dataset(\"raw\", data = raw_np_noise)\n",
    "dset2 = f.create_dataset(\"label\", data = trueseg)\n",
    "dset3 = f.create_dataset(\"label_with_ignore\", data = imglabelIgnore)\n",
    "f.close()"
   ]
  },
  {
   "cell_type": "code",
   "execution_count": 38,
   "id": "336a2a74",
   "metadata": {
    "scrolled": false
   },
   "outputs": [
    {
     "name": "stdout",
     "output_type": "stream",
     "text": [
      "<KeysViewHDF5 ['label', 'label_with_ignore', 'raw']>\n",
      "uint8\n",
      "<class 'h5py._hl.dataset.Dataset'>\n",
      "(320, 960, 1000)\n",
      "uint16\n",
      "int16\n",
      "[[[  0  13   0 ...   0  48   0]\n",
      "  [  0   0   0 ...  58   0   0]\n",
      "  [102   0   0 ...  73   0  40]\n",
      "  ...\n",
      "  [ 95  76   0 ...   0  17   0]\n",
      "  [  0   0   0 ...   0   0 103]\n",
      "  [194  22   0 ...   5   0   0]]\n",
      "\n",
      " [[153  43  16 ...   0 115   0]\n",
      "  [ 44  15  11 ...   0   0   0]\n",
      "  [  0   0  21 ...  44   0   0]\n",
      "  ...\n",
      "  [ 45 168 153 ...  51   7  26]\n",
      "  [  0   0  28 ...   0   0  92]\n",
      "  [  0   0 137 ...  83  58  21]]\n",
      "\n",
      " [[  0   0   0 ...   0   0  75]\n",
      "  [191  48  47 ...  45   0  77]\n",
      "  [156   0   0 ...   0   0   9]\n",
      "  ...\n",
      "  [130   5   0 ...  85  48   0]\n",
      "  [  9   0   0 ...   0  57   0]\n",
      "  [  0   0   0 ...  90   0  40]]\n",
      "\n",
      " [[  0 137   0 ... 143   0  72]\n",
      "  [  0  59   0 ...  80  78 208]\n",
      "  [ 94  37  51 ...   0  57  64]\n",
      "  ...\n",
      "  [  0   0  23 ...   0 106  36]\n",
      "  [ 56   0   0 ...   0   0  10]\n",
      "  [ 77   0   0 ...   0  55   0]]\n",
      "\n",
      " [[  0   0  16 ...  57   0   0]\n",
      "  [  0  64  50 ...   0   0   0]\n",
      "  [136   0   0 ...   0   0   0]\n",
      "  ...\n",
      "  [ 56 167   0 ...  42  77  58]\n",
      "  [ 77  34   8 ...  68   0   0]\n",
      "  [  2  35   0 ...   0   0   0]]]\n"
     ]
    }
   ],
   "source": [
    "img = h5py.File(dir+'ovules_10k/val_noise_03/N_294_final_crop_ds2.h5','r')\n",
    "print(img.keys())\n",
    "raw = img['raw']\n",
    "print(raw.dtype)\n",
    "print(type(raw))\n",
    "print(raw.shape)\n",
    "trueseg = img['label']\n",
    "imglabelIgnore = img['label_with_ignore']\n",
    "print(trueseg.dtype)\n",
    "print(imglabelIgnore.dtype)\n",
    "print(np.array(raw)[:5][:5][:5])\n",
    "img.close()"
   ]
  },
  {
   "cell_type": "markdown",
   "id": "be2e9cef",
   "metadata": {},
   "source": [
    "## blur 3D image"
   ]
  },
  {
   "cell_type": "code",
   "execution_count": 4,
   "id": "b84b95d2",
   "metadata": {},
   "outputs": [],
   "source": [
    "from scipy.ndimage import gaussian_filter\n",
    "import os"
   ]
  },
  {
   "cell_type": "code",
   "execution_count": 13,
   "id": "5ee2ca9c",
   "metadata": {},
   "outputs": [
    {
     "name": "stdout",
     "output_type": "stream",
     "text": [
      "<KeysViewHDF5 ['label', 'label_with_ignore', 'raw']>\n",
      "(320, 960, 1000)\n",
      "<class 'h5py._hl.dataset.Dataset'>\n",
      "uint8\n",
      "uint16\n",
      "int16\n"
     ]
    }
   ],
   "source": [
    "img = h5py.File(dir+'ovules_10k/val/N_294_final_crop_ds2.h5','r')\n",
    "print(img.keys())\n",
    "raw = img['raw']\n",
    "trueseg = img['label']\n",
    "imglabelIgnore = img['label_with_ignore']\n",
    "print(raw.shape)\n",
    "print(type(raw))\n",
    "print(raw.dtype)\n",
    "print(trueseg.dtype)\n",
    "print(imglabelIgnore.dtype)\n",
    "raw_np = np.array(raw)"
   ]
  },
  {
   "cell_type": "code",
   "execution_count": 14,
   "id": "add96700",
   "metadata": {},
   "outputs": [],
   "source": [
    "viewer = napari.view_image(raw,ndisplay=3,blending='additive')\n",
    "viewer.add_labels(trueseg)\n",
    "viewer.add_labels(imglabelIgnore)\n",
    "napari.run()"
   ]
  },
  {
   "cell_type": "code",
   "execution_count": 24,
   "id": "6e13c317",
   "metadata": {},
   "outputs": [
    {
     "name": "stdout",
     "output_type": "stream",
     "text": [
      "[[[ 0  0  0 ...  0  0  0]\n",
      "  [ 0  0  0 ...  0  0  0]\n",
      "  [ 0  0  0 ...  0  0  0]\n",
      "  ...\n",
      "  [ 0  0  0 ...  0  0  0]\n",
      "  [ 0  0  0 ...  0  0  0]\n",
      "  [ 0  0  0 ...  0  0  0]]\n",
      "\n",
      " [[ 0  0  0 ...  0  0  0]\n",
      "  [ 0  0  0 ...  0  0  0]\n",
      "  [ 0  0  0 ...  0  0  0]\n",
      "  ...\n",
      "  [ 0  0  0 ...  0  0  0]\n",
      "  [ 0  0  0 ...  0  0  0]\n",
      "  [ 0  0  0 ...  0  0  0]]\n",
      "\n",
      " [[ 0  0  0 ...  0  0  0]\n",
      "  [ 0  0  0 ...  0  0  0]\n",
      "  [ 0  0  0 ...  0  0  0]\n",
      "  ...\n",
      "  [ 0  0  0 ...  0  0  0]\n",
      "  [14  0  0 ...  0  0  0]\n",
      "  [ 0  0  0 ...  0  0  0]]\n",
      "\n",
      " [[ 0  0  0 ...  0  0  0]\n",
      "  [ 0  0  0 ...  0  0  0]\n",
      "  [ 0  0  0 ...  0  0  0]\n",
      "  ...\n",
      "  [ 0  0  0 ...  0  0  0]\n",
      "  [ 0  0  0 ...  0  0  0]\n",
      "  [ 0  0  0 ...  0  0  0]]\n",
      "\n",
      " [[ 0  0  0 ...  0  0  0]\n",
      "  [ 0  0  0 ...  0  0  0]\n",
      "  [ 0  0  0 ...  0  0  0]\n",
      "  ...\n",
      "  [ 0  0  0 ...  0  0  0]\n",
      "  [ 0  0  0 ...  0  0  0]\n",
      "  [ 0  0  0 ...  0  0  0]]]\n"
     ]
    }
   ],
   "source": [
    "print(raw_np[:5][:5][:5])\n",
    "raw_max=raw_np.max()\n",
    "raw_np_norm = raw_np/raw_max\n",
    "raw_np_norm = gaussian_filter(raw_np_norm, sigma = 5.)\n",
    "raw_np_norm += np.random.normal(0, 0.5, raw_np.shape)\n",
    "raw_np_norm = np.clip(raw_np_norm, 0., 1.)\n",
    "raw_np_norm *= raw_max\n",
    "raw_np_noise = np.uint8(raw_np_norm)\n",
    "#print(raw_np_noise[:5][:5][:5])"
   ]
  },
  {
   "cell_type": "code",
   "execution_count": 25,
   "id": "e32ea19e",
   "metadata": {},
   "outputs": [],
   "source": [
    "viewer = napari.view_image(raw_np_noise,ndisplay=3,blending='additive')\n",
    "napari.run()"
   ]
  },
  {
   "cell_type": "code",
   "execution_count": null,
   "id": "d6f03a84",
   "metadata": {},
   "outputs": [],
   "source": [
    "f = h5py.File(dir+'ovules_10k/val_noise_03/N_294_final_crop_ds2.h5', \"w\")\n",
    "dset1 = f.create_dataset(\"raw\", data = raw_np_noise)\n",
    "dset2 = f.create_dataset(\"label\", data = trueseg)\n",
    "dset3 = f.create_dataset(\"label_with_ignore\", data = imglabelIgnore)\n",
    "f.close()"
   ]
  },
  {
   "cell_type": "code",
   "execution_count": null,
   "id": "39828874",
   "metadata": {},
   "outputs": [],
   "source": []
  },
  {
   "cell_type": "code",
   "execution_count": 17,
   "id": "55ad4223",
   "metadata": {},
   "outputs": [
    {
     "name": "stdout",
     "output_type": "stream",
     "text": [
      "['.DS_Store', 'N_420_ds2x.h5', 'N_420_ds2x.tif', 'N_464_ds2x.h5', 'N_464_ds2x.tif', 'PreProcessing_noise-test-orig', 'PreProcessing_orig-test-orig', 'index.html?zip=']\n"
     ]
    }
   ],
   "source": [
    "files = os.listdir(dir+'ovules_10k/test')\n",
    "files.sort()\n",
    "print(files)\n",
    "for file in files:\n",
    "    if file[-2:] == 'h5':\n",
    "        img = h5py.File(dir+'ovules_10k/test/'+file,'r')\n",
    "        raw = img['raw']\n",
    "        trueseg = img['label']\n",
    "        imglabelIgnore = img['label_with_ignore']\n",
    "        raw_np = np.array(raw)\n",
    "        \n",
    "        raw_max=raw_np.max()\n",
    "        raw_np_norm = raw_np/raw_max\n",
    "        raw_np_norm = gaussian_filter(raw_np_norm, sigma = 10.)\n",
    "        raw_np_norm += np.random.normal(0, 0.5, raw_np.shape)\n",
    "        raw_np_norm = np.clip(raw_np_norm, 0., 1.)\n",
    "        raw_np_norm *= raw_max\n",
    "        raw_np_noise = np.uint8(raw_np_norm)\n",
    "        \n",
    "        f = h5py.File(dir+'ovules_10k/test_blur10/'+file, \"w\")\n",
    "        dset1 = f.create_dataset(\"raw\", data = raw_np_noise)\n",
    "        dset2 = f.create_dataset(\"label\", data = trueseg)\n",
    "        dset3 = f.create_dataset(\"label_with_ignore\", data = imglabelIgnore)\n",
    "        f.close()"
   ]
  },
  {
   "cell_type": "code",
   "execution_count": null,
   "id": "9d4589c0",
   "metadata": {},
   "outputs": [],
   "source": []
  },
  {
   "cell_type": "code",
   "execution_count": 6,
   "id": "c238ca97",
   "metadata": {},
   "outputs": [
    {
     "name": "stdout",
     "output_type": "stream",
     "text": [
      "<KeysViewHDF5 ['predictions']>\n"
     ]
    }
   ],
   "source": [
    "img = h5py.File(dir+'ovules/PreProcessing/CHECKPOINT_DIR_ovules/N_294_final_crop_ds2_predictions.h5','r')\n",
    "print(img.keys())\n",
    "predictions = img['predictions']\n",
    "viewer = napari.view_image(predictions,ndisplay=3,blending='additive')\n",
    "#viewer.add_labels(trueseg)\n",
    "napari.run()"
   ]
  },
  {
   "cell_type": "code",
   "execution_count": 8,
   "id": "2dd39027",
   "metadata": {},
   "outputs": [
    {
     "name": "stdout",
     "output_type": "stream",
     "text": [
      "<KeysViewHDF5 ['predictions']>\n"
     ]
    }
   ],
   "source": [
    "img = h5py.File(dir+'ovules_10k/N_294_final_crop_ds2_predictions.h5','r')\n",
    "print(img.keys())\n",
    "predictions_3dunet = img['predictions']\n",
    "viewer = napari.view_image(predictions_3dunet,ndisplay=3,blending='additive')\n",
    "#viewer.add_labels(trueseg)\n",
    "napari.run()"
   ]
  },
  {
   "cell_type": "code",
   "execution_count": 9,
   "id": "e79c2066",
   "metadata": {},
   "outputs": [],
   "source": [
    "img1 = h5py.File(dir+'ovules_10k/PreProcessing/CHECKPOINT_DIR_ovules/N_294_final_crop_ds2_predictions.h5','r')\n",
    "predictions_np_10k = np.array(img1['predictions'])\n",
    "img2 = h5py.File(dir+'ovules/PreProcessing/CHECKPOINT_DIR_ovules/N_294_final_crop_ds2_predictions.h5','r')\n",
    "predictions_np = np.array(img2['predictions'])\n",
    "img3 = h5py.File(dir+'ovules_10k/N_294_final_crop_ds2_predictions.h5','r')\n",
    "predictions_np_3dunet = np.array(img3['predictions'])"
   ]
  },
  {
   "cell_type": "code",
   "execution_count": 10,
   "id": "3bf2e87f",
   "metadata": {},
   "outputs": [
    {
     "name": "stdout",
     "output_type": "stream",
     "text": [
      "-96648.31\n",
      "35560.426\n"
     ]
    }
   ],
   "source": [
    "print((predictions_np_10k-predictions_np).sum())\n",
    "print((predictions_np_10k-predictions_np_3dunet).sum())"
   ]
  },
  {
   "cell_type": "code",
   "execution_count": 17,
   "id": "7ec09bfc",
   "metadata": {},
   "outputs": [
    {
     "name": "stdout",
     "output_type": "stream",
     "text": [
      "<KeysViewHDF5 ['label', 'label_with_ignore', 'raw']>\n",
      "<KeysViewHDF5 ['segmentation']>\n"
     ]
    }
   ],
   "source": [
    "img1 = h5py.File(dir+'ovules_10k/N_294_final_crop_ds2.h5','r')\n",
    "print(img1.keys())\n",
    "raw = img1['raw']\n",
    "img2 = h5py.File(dir+'ovules_10k/PreProcessing/CHECKPOINT_DIR_ovules/MultiCut/N_294_final_crop_ds2_predictions_multicut.h5','r')\n",
    "print(img2.keys())\n",
    "segmentation = img2['segmentation']"
   ]
  },
  {
   "cell_type": "code",
   "execution_count": 18,
   "id": "b88c680c",
   "metadata": {},
   "outputs": [
    {
     "name": "stdout",
     "output_type": "stream",
     "text": [
      "(320, 960, 1000)\n",
      "232978084\n"
     ]
    }
   ],
   "source": [
    "print(segmentation.shape)\n",
    "n4=n0=0\n",
    "segmentation_np = np.array(segmentation)\n",
    "print((segmentation_np==4).sum())"
   ]
  },
  {
   "cell_type": "code",
   "execution_count": 19,
   "id": "0947ad85",
   "metadata": {},
   "outputs": [
    {
     "name": "stdout",
     "output_type": "stream",
     "text": [
      "232978084\n"
     ]
    }
   ],
   "source": [
    "segmentation_np_t=np.where(segmentation_np==4, 0, segmentation_np)\n",
    "print((segmentation_np_t==0).sum())"
   ]
  },
  {
   "cell_type": "code",
   "execution_count": 20,
   "id": "88a07794",
   "metadata": {},
   "outputs": [],
   "source": [
    "viewer = napari.view_image(raw,ndisplay=3,blending='additive')\n",
    "viewer.add_labels(segmentation_np_t)\n",
    "napari.run()"
   ]
  },
  {
   "cell_type": "markdown",
   "id": "34c9ce40",
   "metadata": {},
   "source": [
    "for ovules_10k:\n",
    "\n",
    "2022-12-29 21:09:12,053 [MainThread] INFO UNet3DTrainer - Saving new best evaluation metric: 0.558465264602141"
   ]
  },
  {
   "cell_type": "code",
   "execution_count": 40,
   "id": "8adfd0e0",
   "metadata": {},
   "outputs": [
    {
     "name": "stdout",
     "output_type": "stream",
     "text": [
      "raw type and shape <class 'h5py._hl.dataset.Dataset'> (388, 1101, 1110)\n",
      "truseg type and shape <class 'h5py._hl.dataset.Dataset'> (388, 1101, 1110)\n"
     ]
    }
   ],
   "source": [
    "#Ovules (training data for confocal)\n",
    "name = 'ovules'\n",
    "img = h5py.File(dir+'ovules_10k/test/N_435_final_crop_ds2.h5','r')\n",
    "#print(img4.keys())\n",
    "raw = img['raw']\n",
    "trueseg = img['label']\n",
    "imglabelIgnore = img['label_with_ignore']\n",
    "\n",
    "print('raw type and shape',type(raw),raw.shape)\n",
    "print('truseg type and shape',type(trueseg),trueseg.shape)\n",
    "# napari code - this will only run on laptop with napari installed\n",
    "viewer = napari.view_image(raw,ndisplay=3,blending='additive')\n",
    "viewer.add_labels(trueseg)\n",
    "viewer.add_labels(imglabelIgnore)\n",
    "napari.run()"
   ]
  },
  {
   "cell_type": "code",
   "execution_count": 41,
   "id": "3fd53c82",
   "metadata": {},
   "outputs": [
    {
     "name": "stdout",
     "output_type": "stream",
     "text": [
      "<KeysViewHDF5 ['label', 'label_with_ignore', 'raw']>\n",
      "<KeysViewHDF5 ['segmentation']>\n",
      "(388, 1101, 1110)\n",
      "1\n",
      "398331854\n",
      "398331854\n"
     ]
    }
   ],
   "source": [
    "img1 = h5py.File(dir+'ovules_10k/test/N_435_final_crop_ds2.h5','r')\n",
    "print(img1.keys())\n",
    "raw = img1['raw']\n",
    "img2 = h5py.File(dir+'ovules_10k/test/PreProcessing/CHECKPOINT_DIR_ovules/MultiCut/N_435_final_crop_ds2_predictions_multicut.h5','r')\n",
    "print(img2.keys())\n",
    "segmentation = img2['segmentation']\n",
    "print(segmentation.shape)\n",
    "print(segmentation[0][0][0])\n",
    "lab = segmentation[0][0][0]\n",
    "segmentation_np = np.array(segmentation)\n",
    "print((segmentation_np==lab).sum())\n",
    "segmentation_np_t=np.where(segmentation_np==lab, 0, segmentation_np)\n",
    "print((segmentation_np_t==0).sum())\n",
    "viewer = napari.view_image(raw,ndisplay=3,blending='additive')\n",
    "viewer.add_labels(segmentation_np_t)\n",
    "napari.run()"
   ]
  },
  {
   "cell_type": "code",
   "execution_count": null,
   "id": "630d0ee0",
   "metadata": {},
   "outputs": [],
   "source": []
  },
  {
   "cell_type": "code",
   "execution_count": 14,
   "id": "765e599c",
   "metadata": {},
   "outputs": [
    {
     "name": "stdout",
     "output_type": "stream",
     "text": [
      "<KeysViewHDF5 ['raw']>\n",
      "raw type and shape <class 'h5py._hl.dataset.Dataset'> (486, 620, 1330)\n"
     ]
    }
   ],
   "source": [
    "img = h5py.File(dir+'PreProcessing/Movie1_t00006_crop_gt.h5', 'r')\n",
    "print(img.keys())\n",
    "pre_raw = img['raw']\n",
    "print('raw type and shape',type(pre_raw),pre_raw.shape)\n",
    "viewer = napari.view_image(pre_raw,ndisplay=3,blending='additive')\n",
    "napari.run()"
   ]
  },
  {
   "cell_type": "code",
   "execution_count": 27,
   "id": "76b3c9a5",
   "metadata": {},
   "outputs": [
    {
     "name": "stdout",
     "output_type": "stream",
     "text": [
      "<KeysViewHDF5 ['segmentation']>\n",
      "raw type and shape <class 'h5py._hl.dataset.Dataset'> (486, 620, 1330)\n"
     ]
    }
   ],
   "source": [
    "img = h5py.File(dir+'CHECKPOINT_DIR/MutexWS/Movie1_t00006_crop_gt_predictions_gasp_mutex_watershed.h5', 'r')\n",
    "print(img.keys())\n",
    "seg = img['segmentation']\n",
    "print('raw type and shape',type(seg),seg.shape)\n",
    "viewer = napari.view_image(seg,ndisplay=3,blending='additive')\n",
    "napari.run()"
   ]
  },
  {
   "cell_type": "code",
   "execution_count": 36,
   "id": "47afc5ac",
   "metadata": {},
   "outputs": [
    {
     "name": "stdout",
     "output_type": "stream",
     "text": [
      "<KeysViewHDF5 ['segmentation']>\n",
      "raw type and shape <class 'h5py._hl.dataset.Dataset'> (486, 620, 1330)\n"
     ]
    }
   ],
   "source": [
    "img = h5py.File(dir+'CHECKPOINT_DIR/GASP/Movie1_t00006_crop_gt_predictions_gasp_average.h5', 'r')\n",
    "print(img.keys())\n",
    "seg = img['segmentation']\n",
    "print('raw type and shape',type(seg),seg.shape)\n",
    "viewer = napari.view_image(seg,ndisplay=3,blending='additive')\n",
    "napari.run()"
   ]
  },
  {
   "cell_type": "code",
   "execution_count": 37,
   "id": "0e84694d",
   "metadata": {},
   "outputs": [
    {
     "name": "stdout",
     "output_type": "stream",
     "text": [
      "<KeysViewHDF5 ['segmentation']>\n",
      "raw type and shape <class 'h5py._hl.dataset.Dataset'> (486, 620, 1330)\n"
     ]
    }
   ],
   "source": [
    "img = h5py.File(dir+'CHECKPOINT_DIR/MultiCut/Movie1_t00006_crop_gt_predictions_multicut.h5', 'r')\n",
    "print(img.keys())\n",
    "gasp_seg = img['segmentation']\n",
    "print('raw type and shape',type(gasp_seg),gasp_seg.shape)\n",
    "viewer = napari.view_image(gasp_seg,ndisplay=3,blending='additive')\n",
    "napari.run()"
   ]
  },
  {
   "cell_type": "code",
   "execution_count": null,
   "id": "5b616d52",
   "metadata": {},
   "outputs": [],
   "source": [
    "img = h5py.File(dir+'CHECKPOINT_DIR/MultiCut/Movie1_t00006_crop_gt_predictions_multicut.h5', 'r')\n",
    "print(img.keys())\n",
    "seg = img['segmentation']\n",
    "print('raw type and shape',type(seg),seg.shape)\n",
    "viewer = napari.view_image(seg,ndisplay=3,blending='additive')\n",
    "napari.run()"
   ]
  },
  {
   "cell_type": "code",
   "execution_count": 12,
   "id": "c4f1546a",
   "metadata": {},
   "outputs": [],
   "source": [
    "viewer = napari.view_image(trueseg,ndisplay=3,blending='additive')\n",
    "viewer.add_labels(trueseg)\n",
    "napari.run()"
   ]
  },
  {
   "cell_type": "code",
   "execution_count": 32,
   "id": "9acad272",
   "metadata": {},
   "outputs": [],
   "source": [
    "viewer = napari.view_image(imglabelIgnore,ndisplay=3,blending='additive')\n",
    "viewer.add_labels(trueseg)\n",
    "napari.run()"
   ]
  },
  {
   "cell_type": "code",
   "execution_count": null,
   "id": "740b6e1c",
   "metadata": {},
   "outputs": [],
   "source": []
  },
  {
   "cell_type": "code",
   "execution_count": 26,
   "id": "c7631c27",
   "metadata": {},
   "outputs": [
    {
     "name": "stdout",
     "output_type": "stream",
     "text": [
      "<HDF5 file \"Movie1_t00006_crop_gt.h5\" (mode r)>\n",
      "<KeysViewHDF5 ['label', 'raw']>\n",
      "<KeysViewHDF5 []>\n"
     ]
    }
   ],
   "source": [
    "print(img)\n",
    "print(img.keys())\n",
    "print(img['raw'].attrs.keys())"
   ]
  },
  {
   "cell_type": "code",
   "execution_count": 19,
   "id": "a1dc247f",
   "metadata": {},
   "outputs": [
    {
     "name": "stdout",
     "output_type": "stream",
     "text": [
      "<HDF5 file \"Movie1_t00003_crop_gt.h5\" (mode r)>\n",
      "<KeysViewHDF5 ['label', 'raw', 'segmentation']>\n"
     ]
    }
   ],
   "source": [
    "print(img)\n",
    "print(img.keys())"
   ]
  },
  {
   "cell_type": "code",
   "execution_count": null,
   "id": "1406122e",
   "metadata": {},
   "outputs": [],
   "source": []
  }
 ],
 "metadata": {
  "kernelspec": {
   "display_name": "Python 3 (ipykernel)",
   "language": "python",
   "name": "python3"
  },
  "language_info": {
   "codemirror_mode": {
    "name": "ipython",
    "version": 3
   },
   "file_extension": ".py",
   "mimetype": "text/x-python",
   "name": "python",
   "nbconvert_exporter": "python",
   "pygments_lexer": "ipython3",
   "version": "3.9.13"
  }
 },
 "nbformat": 4,
 "nbformat_minor": 5
}
